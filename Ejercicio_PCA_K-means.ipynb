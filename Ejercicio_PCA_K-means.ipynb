{
 "cells": [
  {
   "cell_type": "code",
   "execution_count": 1,
   "metadata": {},
   "outputs": [],
   "source": [
    "%matplotlib inline\n",
    "import numpy as np\n",
    "import pandas as pd\n",
    "import matplotlib\n",
    "import matplotlib.pyplot as plt\n",
    "import seaborn as sns; sns.set()  # for plot styling\n",
    "\n",
    "from sklearn import metrics\n",
    "from sklearn.cluster import KMeans\n",
    "from sklearn.datasets import fetch_openml\n",
    "\n",
    "from sklearn.decomposition import PCA\n",
    "import seaborn as sns\n"
   ]
  },
  {
   "cell_type": "code",
   "execution_count": 4,
   "metadata": {},
   "outputs": [],
   "source": [
    "\n",
    "### Esta celda, por el momento no se va a utilizar, sirvió para el ejemplo inicial. \n",
    "def mostrar_digito(digito):\n",
    "    digito = digito.reshape(8, 8)\n",
    "\n",
    "    plt.imshow(digito, cmap = matplotlib.cm.binary,\n",
    "               interpolation=\"nearest\")\n",
    "    plt.axis(\"off\")\n",
    "    plt.show()"
   ]
  },
  {
   "cell_type": "markdown",
   "metadata": {},
   "source": [
    "Carga de datos:"
   ]
  },
  {
   "cell_type": "code",
   "execution_count": 5,
   "metadata": {},
   "outputs": [],
   "source": [
    "#Definiendo paths\n",
    "images_inception_features = './pre-processing/training_inception_features_array.npy'\n",
    "training_image_labels_array = './pre-processing/training_image_labels_array.npy'\n",
    "training_image_names_array = './pre-processing/training_image_names_array.npy'\n",
    "\n",
    "#diccionario, definicion de llaves\n",
    "TRAIN_DICTIONARY_KEYS = [\"images\", \"label\",\"features\"]\n",
    "\n",
    "training_set_dict = dict()\n",
    "\n",
    "## carga de datos utilizando numpy\n",
    "training_set_dict['images_name'] = np.load(training_image_names_array)\n",
    "training_set_dict['label'] = np.load(training_image_labels_array)\n",
    "training_set_dict['features'] = np.load(images_inception_features)\n",
    "\n"
   ]
  },
  {
   "cell_type": "code",
   "execution_count": 6,
   "metadata": {},
   "outputs": [],
   "source": [
    "## Cargamos las features y las labes de cada feature\n",
    "features = training_set_dict['features']\n",
    "labels = training_set_dict['label']\n",
    "images_name = training_set_dict['images_name']"
   ]
  },
  {
   "cell_type": "code",
   "execution_count": 7,
   "metadata": {},
   "outputs": [
    {
     "data": {
      "text/plain": [
       "10222"
      ]
     },
     "execution_count": 7,
     "metadata": {},
     "output_type": "execute_result"
    }
   ],
   "source": [
    "len(features)\n"
   ]
  },
  {
   "cell_type": "markdown",
   "metadata": {},
   "source": [
    "Se pasa a pandas el set de datos:"
   ]
  },
  {
   "cell_type": "code",
   "execution_count": 9,
   "metadata": {},
   "outputs": [
    {
     "data": {
      "text/html": [
       "<div>\n",
       "<style scoped>\n",
       "    .dataframe tbody tr th:only-of-type {\n",
       "        vertical-align: middle;\n",
       "    }\n",
       "\n",
       "    .dataframe tbody tr th {\n",
       "        vertical-align: top;\n",
       "    }\n",
       "\n",
       "    .dataframe thead th {\n",
       "        text-align: right;\n",
       "    }\n",
       "</style>\n",
       "<table border=\"1\" class=\"dataframe\">\n",
       "  <thead>\n",
       "    <tr style=\"text-align: right;\">\n",
       "      <th></th>\n",
       "      <th>0</th>\n",
       "      <th>1</th>\n",
       "      <th>2</th>\n",
       "      <th>3</th>\n",
       "      <th>4</th>\n",
       "      <th>5</th>\n",
       "      <th>6</th>\n",
       "      <th>7</th>\n",
       "      <th>8</th>\n",
       "      <th>9</th>\n",
       "      <th>...</th>\n",
       "      <th>2038</th>\n",
       "      <th>2039</th>\n",
       "      <th>2040</th>\n",
       "      <th>2041</th>\n",
       "      <th>2042</th>\n",
       "      <th>2043</th>\n",
       "      <th>2044</th>\n",
       "      <th>2045</th>\n",
       "      <th>2046</th>\n",
       "      <th>2047</th>\n",
       "    </tr>\n",
       "  </thead>\n",
       "  <tbody>\n",
       "    <tr>\n",
       "      <th>0</th>\n",
       "      <td>0.415009</td>\n",
       "      <td>0.301331</td>\n",
       "      <td>0.424651</td>\n",
       "      <td>0.038742</td>\n",
       "      <td>1.105400</td>\n",
       "      <td>0.091647</td>\n",
       "      <td>0.102199</td>\n",
       "      <td>0.100222</td>\n",
       "      <td>0.102803</td>\n",
       "      <td>0.199128</td>\n",
       "      <td>...</td>\n",
       "      <td>0.679334</td>\n",
       "      <td>0.042565</td>\n",
       "      <td>0.289760</td>\n",
       "      <td>0.048728</td>\n",
       "      <td>0.577778</td>\n",
       "      <td>0.129517</td>\n",
       "      <td>0.058862</td>\n",
       "      <td>0.052040</td>\n",
       "      <td>0.134156</td>\n",
       "      <td>0.505269</td>\n",
       "    </tr>\n",
       "    <tr>\n",
       "      <th>1</th>\n",
       "      <td>0.245439</td>\n",
       "      <td>1.132504</td>\n",
       "      <td>0.263267</td>\n",
       "      <td>0.197686</td>\n",
       "      <td>0.403056</td>\n",
       "      <td>0.042337</td>\n",
       "      <td>0.161456</td>\n",
       "      <td>0.219616</td>\n",
       "      <td>0.120143</td>\n",
       "      <td>0.070168</td>\n",
       "      <td>...</td>\n",
       "      <td>1.157374</td>\n",
       "      <td>0.071143</td>\n",
       "      <td>0.048955</td>\n",
       "      <td>0.033452</td>\n",
       "      <td>0.186528</td>\n",
       "      <td>0.116973</td>\n",
       "      <td>0.207605</td>\n",
       "      <td>0.477137</td>\n",
       "      <td>0.065348</td>\n",
       "      <td>0.076046</td>\n",
       "    </tr>\n",
       "    <tr>\n",
       "      <th>2</th>\n",
       "      <td>0.211031</td>\n",
       "      <td>0.227735</td>\n",
       "      <td>0.078692</td>\n",
       "      <td>0.179440</td>\n",
       "      <td>0.428502</td>\n",
       "      <td>0.000960</td>\n",
       "      <td>0.069846</td>\n",
       "      <td>0.524408</td>\n",
       "      <td>0.380936</td>\n",
       "      <td>0.349437</td>\n",
       "      <td>...</td>\n",
       "      <td>0.880030</td>\n",
       "      <td>0.149061</td>\n",
       "      <td>0.381416</td>\n",
       "      <td>0.791476</td>\n",
       "      <td>0.276790</td>\n",
       "      <td>0.331998</td>\n",
       "      <td>1.142231</td>\n",
       "      <td>0.241350</td>\n",
       "      <td>0.152601</td>\n",
       "      <td>0.138696</td>\n",
       "    </tr>\n",
       "    <tr>\n",
       "      <th>3</th>\n",
       "      <td>0.188835</td>\n",
       "      <td>0.214621</td>\n",
       "      <td>0.430704</td>\n",
       "      <td>0.056100</td>\n",
       "      <td>0.103905</td>\n",
       "      <td>0.461142</td>\n",
       "      <td>0.045819</td>\n",
       "      <td>0.008077</td>\n",
       "      <td>0.026903</td>\n",
       "      <td>0.031911</td>\n",
       "      <td>...</td>\n",
       "      <td>0.776182</td>\n",
       "      <td>0.436186</td>\n",
       "      <td>0.019146</td>\n",
       "      <td>0.093014</td>\n",
       "      <td>0.322295</td>\n",
       "      <td>0.932094</td>\n",
       "      <td>0.064720</td>\n",
       "      <td>0.257340</td>\n",
       "      <td>0.523037</td>\n",
       "      <td>0.163814</td>\n",
       "    </tr>\n",
       "    <tr>\n",
       "      <th>4</th>\n",
       "      <td>0.219879</td>\n",
       "      <td>0.361626</td>\n",
       "      <td>0.077862</td>\n",
       "      <td>0.005002</td>\n",
       "      <td>0.255253</td>\n",
       "      <td>0.479375</td>\n",
       "      <td>0.096411</td>\n",
       "      <td>0.264948</td>\n",
       "      <td>0.282627</td>\n",
       "      <td>0.158179</td>\n",
       "      <td>...</td>\n",
       "      <td>0.832879</td>\n",
       "      <td>0.214045</td>\n",
       "      <td>0.304193</td>\n",
       "      <td>0.338655</td>\n",
       "      <td>0.006227</td>\n",
       "      <td>0.403406</td>\n",
       "      <td>0.551444</td>\n",
       "      <td>0.343893</td>\n",
       "      <td>1.274768</td>\n",
       "      <td>0.292337</td>\n",
       "    </tr>\n",
       "  </tbody>\n",
       "</table>\n",
       "<p>5 rows × 2048 columns</p>\n",
       "</div>"
      ],
      "text/plain": [
       "       0         1         2         3         4         5         6     \\\n",
       "0  0.415009  0.301331  0.424651  0.038742  1.105400  0.091647  0.102199   \n",
       "1  0.245439  1.132504  0.263267  0.197686  0.403056  0.042337  0.161456   \n",
       "2  0.211031  0.227735  0.078692  0.179440  0.428502  0.000960  0.069846   \n",
       "3  0.188835  0.214621  0.430704  0.056100  0.103905  0.461142  0.045819   \n",
       "4  0.219879  0.361626  0.077862  0.005002  0.255253  0.479375  0.096411   \n",
       "\n",
       "       7         8         9       ...         2038      2039      2040  \\\n",
       "0  0.100222  0.102803  0.199128    ...     0.679334  0.042565  0.289760   \n",
       "1  0.219616  0.120143  0.070168    ...     1.157374  0.071143  0.048955   \n",
       "2  0.524408  0.380936  0.349437    ...     0.880030  0.149061  0.381416   \n",
       "3  0.008077  0.026903  0.031911    ...     0.776182  0.436186  0.019146   \n",
       "4  0.264948  0.282627  0.158179    ...     0.832879  0.214045  0.304193   \n",
       "\n",
       "       2041      2042      2043      2044      2045      2046      2047  \n",
       "0  0.048728  0.577778  0.129517  0.058862  0.052040  0.134156  0.505269  \n",
       "1  0.033452  0.186528  0.116973  0.207605  0.477137  0.065348  0.076046  \n",
       "2  0.791476  0.276790  0.331998  1.142231  0.241350  0.152601  0.138696  \n",
       "3  0.093014  0.322295  0.932094  0.064720  0.257340  0.523037  0.163814  \n",
       "4  0.338655  0.006227  0.403406  0.551444  0.343893  1.274768  0.292337  \n",
       "\n",
       "[5 rows x 2048 columns]"
      ]
     },
     "execution_count": 9,
     "metadata": {},
     "output_type": "execute_result"
    }
   ],
   "source": [
    "pdFeatures= pd.DataFrame(features)\n",
    "\n",
    "pdFeatures.head()\n",
    "## se observan por la instrucción head, 5 filas y 2048 columnas\n"
   ]
  },
  {
   "cell_type": "markdown",
   "metadata": {},
   "source": [
    "Normalizacion de datos:"
   ]
  },
  {
   "cell_type": "code",
   "execution_count": 27,
   "metadata": {},
   "outputs": [
    {
     "name": "stderr",
     "output_type": "stream",
     "text": [
      "C:\\ProgramData\\Anaconda3\\lib\\site-packages\\sklearn\\preprocessing\\data.py:323: DataConversionWarning: Data with input dtype float32 were all converted to float64 by MinMaxScaler.\n",
      "  return self.partial_fit(X, y)\n"
     ]
    },
    {
     "ename": "AttributeError",
     "evalue": "'DataFrame' object has no attribute 'target'",
     "output_type": "error",
     "traceback": [
      "\u001b[1;31m---------------------------------------------------------------------------\u001b[0m",
      "\u001b[1;31mAttributeError\u001b[0m                            Traceback (most recent call last)",
      "\u001b[1;32m<ipython-input-27-443e2ee1fea1>\u001b[0m in \u001b[0;36m<module>\u001b[1;34m\u001b[0m\n\u001b[0;32m      6\u001b[0m \u001b[0mscaledFeatures\u001b[0m \u001b[1;33m=\u001b[0m \u001b[0mmin_max_scaler\u001b[0m\u001b[1;33m.\u001b[0m\u001b[0mfit_transform\u001b[0m\u001b[1;33m(\u001b[0m\u001b[0mpdFeatures\u001b[0m\u001b[1;33m)\u001b[0m\u001b[1;33m\u001b[0m\u001b[1;33m\u001b[0m\u001b[0m\n\u001b[0;32m      7\u001b[0m \u001b[1;31m#df = pandas.DataFrame(x_scaled)\u001b[0m\u001b[1;33m\u001b[0m\u001b[1;33m\u001b[0m\u001b[1;33m\u001b[0m\u001b[0m\n\u001b[1;32m----> 8\u001b[1;33m \u001b[0mpdFeatures\u001b[0m\u001b[1;33m.\u001b[0m\u001b[0mtarget\u001b[0m\u001b[1;33m\u001b[0m\u001b[1;33m\u001b[0m\u001b[0m\n\u001b[0m",
      "\u001b[1;32mC:\\ProgramData\\Anaconda3\\lib\\site-packages\\pandas\\core\\generic.py\u001b[0m in \u001b[0;36m__getattr__\u001b[1;34m(self, name)\u001b[0m\n\u001b[0;32m   4374\u001b[0m             \u001b[1;32mif\u001b[0m \u001b[0mself\u001b[0m\u001b[1;33m.\u001b[0m\u001b[0m_info_axis\u001b[0m\u001b[1;33m.\u001b[0m\u001b[0m_can_hold_identifiers_and_holds_name\u001b[0m\u001b[1;33m(\u001b[0m\u001b[0mname\u001b[0m\u001b[1;33m)\u001b[0m\u001b[1;33m:\u001b[0m\u001b[1;33m\u001b[0m\u001b[1;33m\u001b[0m\u001b[0m\n\u001b[0;32m   4375\u001b[0m                 \u001b[1;32mreturn\u001b[0m \u001b[0mself\u001b[0m\u001b[1;33m[\u001b[0m\u001b[0mname\u001b[0m\u001b[1;33m]\u001b[0m\u001b[1;33m\u001b[0m\u001b[1;33m\u001b[0m\u001b[0m\n\u001b[1;32m-> 4376\u001b[1;33m             \u001b[1;32mreturn\u001b[0m \u001b[0mobject\u001b[0m\u001b[1;33m.\u001b[0m\u001b[0m__getattribute__\u001b[0m\u001b[1;33m(\u001b[0m\u001b[0mself\u001b[0m\u001b[1;33m,\u001b[0m \u001b[0mname\u001b[0m\u001b[1;33m)\u001b[0m\u001b[1;33m\u001b[0m\u001b[1;33m\u001b[0m\u001b[0m\n\u001b[0m\u001b[0;32m   4377\u001b[0m \u001b[1;33m\u001b[0m\u001b[0m\n\u001b[0;32m   4378\u001b[0m     \u001b[1;32mdef\u001b[0m \u001b[0m__setattr__\u001b[0m\u001b[1;33m(\u001b[0m\u001b[0mself\u001b[0m\u001b[1;33m,\u001b[0m \u001b[0mname\u001b[0m\u001b[1;33m,\u001b[0m \u001b[0mvalue\u001b[0m\u001b[1;33m)\u001b[0m\u001b[1;33m:\u001b[0m\u001b[1;33m\u001b[0m\u001b[1;33m\u001b[0m\u001b[0m\n",
      "\u001b[1;31mAttributeError\u001b[0m: 'DataFrame' object has no attribute 'target'"
     ]
    }
   ],
   "source": [
    "from sklearn import preprocessing\n",
    "\n",
    "## Se instancia el objeto para preprocesar los datos\n",
    "min_max_scaler = preprocessing.MinMaxScaler()\n",
    "\n",
    "scaledFeatures = min_max_scaler.fit_transform(pdFeatures)\n",
    "#df = pandas.DataFrame(x_scaled)\n",
    "\n"
   ]
  },
  {
   "cell_type": "markdown",
   "metadata": {},
   "source": [
    "Tipo de datos:"
   ]
  },
  {
   "cell_type": "code",
   "execution_count": 20,
   "metadata": {},
   "outputs": [
    {
     "name": "stdout",
     "output_type": "stream",
     "text": [
      "<class 'numpy.ndarray'>\n",
      "[[0.26606285 0.12718312 0.16464445 ... 0.02830172 0.05601674 0.20787722]\n",
      " [0.15669976 0.47799777 0.10207321 ... 0.25949141 0.02728588 0.03128687]\n",
      " [0.13450845 0.09612024 0.03051042 ... 0.13125834 0.06371825 0.05706205]\n",
      " [0.12019347 0.09058526 0.16699126 ... 0.13995452 0.21839328 0.06739623]]\n"
     ]
    }
   ],
   "source": [
    "print(type(scaledFeatures))\n",
    "print(scaledFeatures[:4,:])\n",
    "\n"
   ]
  },
  {
   "cell_type": "markdown",
   "metadata": {},
   "source": [
    "Notar que tiene las mismas dimensiones, pero que los valores ahora están entre cero y uno"
   ]
  },
  {
   "cell_type": "code",
   "execution_count": 21,
   "metadata": {},
   "outputs": [
    {
     "name": "stdout",
     "output_type": "stream",
     "text": [
      "(10222, 2048)\n"
     ]
    }
   ],
   "source": [
    "print(scaledFeatures.shape)\n"
   ]
  },
  {
   "cell_type": "markdown",
   "metadata": {},
   "source": [
    "# Cargando los Datos (MNIST)"
   ]
  },
  {
   "cell_type": "code",
   "execution_count": null,
   "metadata": {},
   "outputs": [],
   "source": [
    "def plot_digits(data):\n",
    "    fig, axes = plt.subplots(4, 10, figsize=(10, 4),\n",
    "                             subplot_kw={'xticks':[], 'yticks':[]},\n",
    "                             gridspec_kw=dict(hspace=0.1, wspace=0.1))\n",
    "    for i, ax in enumerate(axes.flat):\n",
    "        ax.imshow(data[i].reshape(8, 8),\n",
    "                  cmap='binary', interpolation='nearest',\n",
    "                  clim=(0, 16))\n",
    "plot_digits(x)"
   ]
  },
  {
   "cell_type": "code",
   "execution_count": 23,
   "metadata": {},
   "outputs": [],
   "source": [
    "#### PCA a 2 dimensiones ######\n",
    "\n",
    "pca= PCA(n_components=2)\n",
    "X2D = pca.fit_transform(scaledFeatures)\n",
    "dfTransformado=pd.DataFrame(data=X2D,\n",
    "                            columns=['Componente principal 1',\n",
    "                                     'Componente principal 1'])"
   ]
  },
  {
   "cell_type": "code",
   "execution_count": 24,
   "metadata": {},
   "outputs": [
    {
     "data": {
      "text/plain": [
       "Text(0, 0.5, 'component 2')"
      ]
     },
     "execution_count": 24,
     "metadata": {},
     "output_type": "execute_result"
    },
    {
     "data": {
      "image/png": "[encoded data removed]",
      "text/plain": [
       "<Figure size 432x288 with 1 Axes>"
      ]
     },
     "metadata": {
      "needs_background": "light"
     },
     "output_type": "display_data"
    }
   ],
   "source": [
    "plt.scatter(X2D[:, 0], X2D[:, 1])\n",
    "plt.xlabel('component 1')\n",
    "plt.ylabel('component 2')\n"
   ]
  },
  {
   "cell_type": "code",
   "execution_count": 28,
   "metadata": {},
   "outputs": [
    {
     "ename": "NameError",
     "evalue": "name 'digits' is not defined",
     "output_type": "error",
     "traceback": [
      "\u001b[1;31m---------------------------------------------------------------------------\u001b[0m",
      "\u001b[1;31mNameError\u001b[0m                                 Traceback (most recent call last)",
      "\u001b[1;32m<ipython-input-28-d6142d6897c6>\u001b[0m in \u001b[0;36m<module>\u001b[1;34m\u001b[0m\n\u001b[0;32m      1\u001b[0m plt.scatter(X2D[:, 0], X2D[:, 1],\n\u001b[1;32m----> 2\u001b[1;33m             \u001b[0mc\u001b[0m\u001b[1;33m=\u001b[0m\u001b[0mdigits\u001b[0m\u001b[1;33m.\u001b[0m\u001b[0mtarget\u001b[0m\u001b[1;33m,\u001b[0m \u001b[0medgecolor\u001b[0m\u001b[1;33m=\u001b[0m\u001b[1;34m'none'\u001b[0m\u001b[1;33m,\u001b[0m \u001b[0malpha\u001b[0m\u001b[1;33m=\u001b[0m\u001b[1;36m0.5\u001b[0m\u001b[1;33m,\u001b[0m\u001b[1;33m\u001b[0m\u001b[1;33m\u001b[0m\u001b[0m\n\u001b[0m\u001b[0;32m      3\u001b[0m             cmap=plt.cm.get_cmap('Accent', 10))\n\u001b[0;32m      4\u001b[0m \u001b[0mplt\u001b[0m\u001b[1;33m.\u001b[0m\u001b[0mcolorbar\u001b[0m\u001b[1;33m(\u001b[0m\u001b[1;33m)\u001b[0m\u001b[1;33m\u001b[0m\u001b[1;33m\u001b[0m\u001b[0m\n",
      "\u001b[1;31mNameError\u001b[0m: name 'digits' is not defined"
     ]
    }
   ],
   "source": [
    "plt.scatter(X2D[:, 0], X2D[:, 1],\n",
    "            c=digits.target, edgecolor='none', alpha=0.5,\n",
    "            cmap=plt.cm.get_cmap('Accent', 10))\n",
    "plt.colorbar()"
   ]
  },
  {
   "cell_type": "markdown",
   "metadata": {},
   "source": [
    "## K-means Clustering con Sklearn\n",
    "\n",
    "[Documentacion oficial](http://scikit-learn.org/stable/modules/generated/sklearn.cluster.KMeans.html)"
   ]
  },
  {
   "cell_type": "code",
   "execution_count": null,
   "metadata": {},
   "outputs": [],
   "source": [
    "## K-means\n"
   ]
  },
  {
   "cell_type": "code",
   "execution_count": null,
   "metadata": {},
   "outputs": [],
   "source": [
    "clusters = ## clustes de kmeans"
   ]
  },
  {
   "cell_type": "code",
   "execution_count": null,
   "metadata": {},
   "outputs": [],
   "source": [
    "kmeans.cluster_centers_.shape"
   ]
  },
  {
   "cell_type": "code",
   "execution_count": null,
   "metadata": {},
   "outputs": [],
   "source": [
    "kmeans.cluster_centers_"
   ]
  },
  {
   "cell_type": "code",
   "execution_count": null,
   "metadata": {},
   "outputs": [],
   "source": [
    "plt.scatter(X2D[:, 0], X2D[:, 1],\n",
    "            c=digits.target, edgecolor='none', alpha=0.5,\n",
    "            cmap=plt.cm.get_cmap('Accent', 10))\n",
    "plt.scatter(centers[:, 0], centers[:, 1], c='black', s=200, alpha=0.5);\n"
   ]
  }
 ],
 "metadata": {
  "kernelspec": {
   "display_name": "Python 3",
   "language": "python",
   "name": "python3"
  },
  "language_info": {
   "codemirror_mode": {
    "name": "ipython",
    "version": 3
   },
   "file_extension": ".py",
   "mimetype": "text/x-python",
   "name": "python",
   "nbconvert_exporter": "python",
   "pygments_lexer": "ipython3",
   "version": "3.7.1"
  }
 },
 "nbformat": 4,
 "nbformat_minor": 2
}
